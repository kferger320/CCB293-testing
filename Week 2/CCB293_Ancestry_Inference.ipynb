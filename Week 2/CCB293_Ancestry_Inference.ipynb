{
  "nbformat": 4,
  "nbformat_minor": 0,
  "metadata": {
    "colab": {
      "name": "CCB293_Ancestry_Inference_(7).ipynb",
      "provenance": [],
      "collapsed_sections": [],
      "toc_visible": true
    },
    "kernelspec": {
      "name": "python3",
      "display_name": "Python 3"
    }
  },
  "cells": [
    {
      "cell_type": "code",
      "metadata": {
        "id": "F5b-fuLk7lBo",
        "colab_type": "code",
        "colab": {}
      },
      "source": [
        "# REPLACE by your individual\n",
        "my_individual = 'HG01149'"
      ],
      "execution_count": 0,
      "outputs": []
    },
    {
      "cell_type": "markdown",
      "metadata": {
        "id": "3fiJYnPtHOlI",
        "colab_type": "text"
      },
      "source": [
        "## Installing requirements"
      ]
    },
    {
      "cell_type": "code",
      "metadata": {
        "id": "7OoO64kwB9nK",
        "colab_type": "code",
        "colab": {}
      },
      "source": [
        "# Connect to github and load the necessary data and tools\n",
        "%%capture\n",
        "!export LD_LIBARY_PATH=/usr/lib/x86_64-linux-gnu:$LD_LIBRARY_PATH\n",
        "!apt install libgsl-dev\n",
        "!ln -s /usr/lib/x86_64-linux-gnu/libgsl.so /usr/lib/x86_64-linux-gnu/libgsl.so.0\n",
        "!git clone https://github.com/priyamoorjani/CCB293.git\n",
        "!chmod +x CCB293/bin/smartpca\n",
        "!chmod +x CCB293/bin/admixture\n",
        "!cd CCB293/data/1000G_archaic && unzip 1000G_archaic.geno.zip\n",
        "!cd CCB293/data/1000G_archaic && git clone https://github.com/LauritsSkov/Introgression-detection.git"
      ],
      "execution_count": 0,
      "outputs": []
    },
    {
      "cell_type": "code",
      "metadata": {
        "id": "J9v4RA4IPEGW",
        "colab_type": "code",
        "colab": {}
      },
      "source": [
        "# SKIP\n",
        "#%%capture\n",
        "#!wget ftp://ftp.1000genomes.ebi.ac.uk/vol1/ftp/release/20130502/supporting/accessible_genome_masks/StrictMask/20140520.chr17.strict_mask.fasta.gz -O 20140520.chr17.strict_mask.fasta.gz\n",
        "#!wget http://hgdownload.cse.ucsc.edu/goldenpath/hg19/bigZips/chromFaMasked.tar.gz\n",
        "#!tar xzvf chromFaMasked.tar.gz\n",
        "#!wget http://web.corral.tacc.utexas.edu/WGSAdownload/resources/human_ancestor_GRCh37_e71/homo_sapiens_ancestor_17.fa.gz\n",
        "#!wget ftp://ftp.1000genomes.ebi.ac.uk/vol1/ftp/release/20130502/integrated_call_samples_v3.20130502.ALL.panel\n",
        "#!apt install autoconf autogen\n",
        "#!git clone https://github.com/vcftools/vcftools.git\n",
        "#!cd vcftools && ./autogen.sh && ./configure && make && make install\n",
        "#!git clone https://github.com/samtools/htslib.git\n",
        "#!cd htslib && autoheader && autoconf && ./configure && make && make install\n",
        "#!wget ftp://ftp.1000genomes.ebi.ac.uk/vol1/ftp/release/20130502/ALL.chr17.phase3_shapeit2_mvncall_integrated_v5a.20130502.genotypes.vcf.gz\n",
        "#!wget ftp://ftp.1000genomes.ebi.ac.uk/vol1/ftp/release/20130502/ALL.chr17.phase3_shapeit2_mvncall_integrated_v5a.20130502.genotypes.vcf.gz.tbi\n",
        "#!gunzip homo_sapiens_ancestor_17.fa.gz"
      ],
      "execution_count": 0,
      "outputs": []
    },
    {
      "cell_type": "code",
      "metadata": {
        "id": "wuDs7KIdHqB6",
        "colab_type": "code",
        "colab": {}
      },
      "source": [
        "# load the libraries\n",
        "import matplotlib.pyplot as plt\n",
        "from collections import Counter\n",
        "import numpy as np\n",
        "import pandas as pd\n",
        "import colorsys\n",
        "import seaborn as sns\n",
        "from IPython.display import Image\n",
        "import os"
      ],
      "execution_count": 0,
      "outputs": []
    },
    {
      "cell_type": "code",
      "metadata": {
        "id": "Io8WDoS3MPpH",
        "colab_type": "code",
        "colab": {}
      },
      "source": [
        "# define plotting functions\n",
        "\n",
        "def plot_pcs(pcs, I, J, labels, indivs=None):\n",
        "    PCI = 'PC{}'.format(I)\n",
        "    PCJ = 'PC{}'.format(J)\n",
        "    plt.figure(figsize=(10,10))\n",
        "    #colors = [colorsys.hsv_to_rgb(h,0.9,0.7) for h in np.linspace(0,1,len(np.unique(labels))+1)[:-1]]\n",
        "    #colors = ['#acc2d9', '#653700', '#b2996e', '#a8ff04', 'xkcd:orange', '#894585',\n",
        "    #          '#70b23f', '#d4ffff', '#65ab7c', '#952e8f', '#fcfc81', '#a5a391',\n",
        "    #          '#388004', '#4c9085', '#5e9b8a', '#efb435', '#d99b82', '#0a5f38',\n",
        "    #          '#0c06f7', '#61de2a', '#3778bf', '#2242c7', '#533cc6', '#9bb53c',\n",
        "    #          '#05ffa6', '#1f6357', '#017374', '#0cb577']\n",
        "\n",
        "    colors = [\n",
        "        \"#7e1e9c\", \"#15b01a\", \"#0343df\", \"#ff81c0\",\"#653700\",\"#e50000\",\"#029386\",\n",
        "        \"#f97306\", \"#96f97b\", \"#c20078\", \"#ffff14\", \"#95d0fc\", \"#929591\",\n",
        "        \"#9a0eea\",\n",
        "        \"#033500\",\n",
        "        \"#00035b\",\n",
        "        \"#06c2ac\",\n",
        "        \"#d1b26f\",\n",
        "        \"#00ffff\",\n",
        "        \"#650021\",\n",
        "        \"#ffb07c\",\n",
        "        \"#ff796c\",\n",
        "        \"#36013f\",\n",
        "        \"#c65102\",\n",
        "        \"#000000\",\n",
        "        \"#c1f80a\",\n",
        "        \"#4b5d16\",\n",
        "        \"#0652ff\"\n",
        "    ]\n",
        "    \n",
        "\n",
        "    print(len(np.unique(labels)))\n",
        "    for i, p in enumerate(np.unique(labels)):\n",
        "        pcs_p = pcs[labels==p]\n",
        "        plt.scatter(pcs_p[PCI], pcs_p[PCJ], label=p, color=colors[i])\n",
        "    plt.legend(loc=(1.04,0))\n",
        "    if indivs is not None:\n",
        "        for individual in indivs:\n",
        "            pcs_i = pcs[pcs.Sample==individual]\n",
        "            plt.annotate(individual, [pcs_i[PCI], pcs_i[PCJ]])\n",
        "            plt.plot(pcs_i[PCI], pcs_i[PCJ], 'o', color='black')\n",
        "    plt.xlabel(PCI)\n",
        "    plt.ylabel(PCJ);\n",
        "\n",
        "\n",
        "def plot_admixture(admixture, population_indices, population_labels):\n",
        "    plot = plt\n",
        "\n",
        "    N,K = admixture.shape\n",
        "    colors = [colorsys.hsv_to_rgb(h,0.9,0.7) for h in np.linspace(0,1,K+1)[:-1]]\n",
        "    text_color = 'k'\n",
        "    bg_color = 'w'\n",
        "    fontsize = 24\n",
        "\n",
        "    figure = plot.figure(figsize=(5,3))\n",
        "\n",
        "    xmin = 0.13\n",
        "    ymin = 0.2\n",
        "    height = 1.2#0.6\n",
        "    width = 1.5#0.74\n",
        "    indiv_width = width/N\n",
        "    subplot = figure.add_axes([xmin,ymin,width,height])\n",
        "    [spine.set_linewidth(0.001) for spine in subplot.spines.values()]\n",
        "\n",
        "    for k in np.arange(K):\n",
        "        if k:\n",
        "            bottoms = admixture[:,:k].sum(1)\n",
        "        else:\n",
        "            bottoms = np.zeros((N,),dtype=float)\n",
        "\n",
        "        lefts = np.arange(N)*indiv_width\n",
        "        subplot.bar(lefts, admixture[:,k], width=indiv_width, bottom=bottoms, facecolor=colors[k], edgecolor=colors[k], linewidth=0.4)\n",
        "\n",
        "        subplot.axis([0, N*indiv_width, 0, 1])\n",
        "        subplot.tick_params(axis='both', top=False, right=False, left=False, bottom=False)\n",
        "        xtick_labels = tuple(map(str,['']*N))\n",
        "        subplot.set_xticklabels(xtick_labels)\n",
        "        ytick_labels = tuple(map(str,['']*K))\n",
        "        subplot.set_yticklabels(ytick_labels)\n",
        "\n",
        "    for p,popname in enumerate(population_labels):\n",
        "        indices = np.where(population_indices==p)[0]\n",
        "        if indices.size>0:\n",
        "            vline_pos = (indices.max()+1)*indiv_width \n",
        "            subplot.axvline(vline_pos, linestyle='-', linewidth=0.2, c='#888888')\n",
        "            label_position = (xmin+(2*indices.min()+indices.size)*0.5*indiv_width, ymin-0.01)\n",
        "            figure.text(label_position[0], label_position[1], popname, fontsize=12, color='k', \\\n",
        "                horizontalalignment='right', verticalalignment='top', rotation=70)\n",
        "\n",
        "    return figure\n",
        "\n",
        "def plot_admix_individual(admix, individual):\n",
        "    K = admix.shape[1]\n",
        "    colors = [colorsys.hsv_to_rgb(h,0.9,0.7) for h in np.linspace(0,1,K+1)[:-1]]\n",
        "    plt.pie(admix[individuals.individual==individual][0], colors=colors)\n",
        "    plt.title(individual);\n",
        "\n",
        "def plot_window_assignment(window_assignment):\n",
        "    plt.scatter(np.arange(len(window_assignment)), window_assignment, s=8)\n",
        "    plt.xlabel('window')\n",
        "    plt.yticks([0,1], ['Human', 'Archaic'])"
      ],
      "execution_count": 0,
      "outputs": []
    },
    {
      "cell_type": "markdown",
      "metadata": {
        "id": "iBpVEyp7TmPJ",
        "colab_type": "text"
      },
      "source": [
        "## Exploring the data"
      ]
    },
    {
      "cell_type": "code",
      "metadata": {
        "id": "BzaSNde0YLPb",
        "colab_type": "code",
        "colab": {}
      },
      "source": [
        "# set current directory\n",
        "%cd /content/CCB293/data/1000G_archaic/"
      ],
      "execution_count": 0,
      "outputs": []
    },
    {
      "cell_type": "code",
      "metadata": {
        "id": "xdZlhytqZBrx",
        "colab_type": "code",
        "colab": {}
      },
      "source": [
        "# Read the individual file. For more information about file formats, refer to: https://reich.hms.harvard.edu/software/InputFileFormats \n",
        "individuals = pd.read_csv('1000G_archaic.ind', delim_whitespace=True, header=None, names=['individual', 'sex', 'population'])"
      ],
      "execution_count": 0,
      "outputs": []
    },
    {
      "cell_type": "code",
      "metadata": {
        "id": "6GYcQn5axpaz",
        "colab_type": "code",
        "colab": {}
      },
      "source": [
        "# 1000 Genomes Populations and 3 letter codes. For reference, see population_info.csv\n",
        "%%writefile population_info.csv\n",
        "population,description,super_population\n",
        "CHB,Han Chinese in Beijing China,EAS\n",
        "JPT,Japanese in Tokyo - Japan,EAS\n",
        "CHS,Southern Han Chinese,EAS\n",
        "CDX,Chinese Dai in Xishuangbanna - China,EAS\n",
        "KHV,Kinh in Ho Chi Minh City - Vietnam,EAS\n",
        "CEU,Utah Residents (CEPH) with Northern and Western European Ancestry,EUR\n",
        "TSI,Toscani in Italia,EUR\n",
        "FIN,Finnish in Finland,EUR\n",
        "GBR,British in England and Scotland,EUR\n",
        "IBS,Iberian Population in Spain,EUR\n",
        "YRI,Yoruba in Ibadan - Nigeria,AFR\n",
        "LWK,Luhya in Webuye - Kenya,AFR\n",
        "GWD,Gambian in Western Divisions in the Gambia,AFR\n",
        "MSL,Mende in Sierra Leone,AFR\n",
        "ESN,Esan in Nigeria,AFR\n",
        "ASW,Americans of African Ancestry in SW USA,AFR\n",
        "ACB,African Caribbeans in Barbados,AFR\n",
        "MXL,Mexican Ancestry from Los Angeles USA,AMR\n",
        "PUR,Puerto Ricans from Puerto Rico,AMR\n",
        "CLM,Colombians from Medellin - Colombia,AMR\n",
        "PEL,Peruvians from Lima - Peru,AMR\n",
        "GIH,Gujarati Indian from Houston - Texas,SAS\n",
        "PJL,Punjabi from Lahore - Pakistan,SAS\n",
        "BEB,Bengali from Bangladesh,SAS\n",
        "STU,Sri Lankan Tamil from the UK,SAS\n",
        "ITU,Indian Telugu from the UK,SAS"
      ],
      "execution_count": 0,
      "outputs": []
    },
    {
      "cell_type": "code",
      "metadata": {
        "id": "90wGDaovxyvx",
        "colab_type": "code",
        "colab": {}
      },
      "source": [
        "# Display population labels\n",
        "population_info = pd.read_csv('population_info.csv')\n",
        "population_info"
      ],
      "execution_count": 0,
      "outputs": []
    },
    {
      "cell_type": "code",
      "metadata": {
        "id": "n9aPlpZAzCmo",
        "colab_type": "code",
        "colab": {}
      },
      "source": [
        "# Update file with labels for archaic groups\n",
        "individuals = individuals.merge(population_info, on='population', how='left').fillna('Archaic')"
      ],
      "execution_count": 0,
      "outputs": []
    },
    {
      "cell_type": "code",
      "metadata": {
        "id": "muGCmSsdyIsn",
        "colab_type": "code",
        "colab": {}
      },
      "source": [
        "# 1000 Genomes super_population - AFR = Africa, EUR = Europe, SAS = South Asia, EAS = East Asia, AMR = Americas, Archaic = Neanderthal/ Denisova\n",
        "individuals.population = individuals.population.astype('category')\n",
        "individuals.super_population = pd.Categorical(\n",
        "    individuals.super_population, \n",
        "    categories=['AFR', 'EUR', 'SAS', 'EAS', 'AMR', 'Archaic'],\n",
        "    ordered=True)"
      ],
      "execution_count": 0,
      "outputs": []
    },
    {
      "cell_type": "code",
      "metadata": {
        "id": "TbZLNt-ftSEq",
        "colab_type": "code",
        "colab": {}
      },
      "source": [
        "# sort individuals by population\n",
        "individuals = individuals.sort_values(['super_population', 'population'])"
      ],
      "execution_count": 0,
      "outputs": []
    },
    {
      "cell_type": "code",
      "metadata": {
        "id": "pueNJL9IikLR",
        "colab_type": "code",
        "colab": {}
      },
      "source": [
        "# Display Ind file. Format: https://reich.hms.harvard.edu/software/InputFileFormats\n",
        "individuals.tail()"
      ],
      "execution_count": 0,
      "outputs": []
    },
    {
      "cell_type": "code",
      "metadata": {
        "id": "3BcD_bPYtaBW",
        "colab_type": "code",
        "colab": {}
      },
      "source": [
        "# order individual indexes\n",
        "order = individuals.index"
      ],
      "execution_count": 0,
      "outputs": []
    },
    {
      "cell_type": "code",
      "metadata": {
        "id": "xEScE5wG7fJY",
        "colab_type": "code",
        "colab": {}
      },
      "source": [
        "# Set my_individual's continental group\n",
        "my_individual_index = np.where(individuals.individual==my_individual)[0][0]\n",
        "my_continental_group = individuals.iloc[my_individual_index].super_population"
      ],
      "execution_count": 0,
      "outputs": []
    },
    {
      "cell_type": "code",
      "metadata": {
        "id": "Bc2FdZTmF0pc",
        "colab_type": "code",
        "colab": {}
      },
      "source": [
        "# Display SNP file. Format: https://reich.hms.harvard.edu/software/InputFileFormats\n",
        "snps = pd.read_csv('1000G_archaic.snp', delim_whitespace=True, header=None, names=['id', 'chr', 'recomb. rate', 'position', 'allele 1', 'allele 2'])\n",
        "print(snps.shape)\n",
        "snps.head()"
      ],
      "execution_count": 0,
      "outputs": []
    },
    {
      "cell_type": "code",
      "metadata": {
        "id": "bUrJwelIWZWc",
        "colab_type": "code",
        "colab": {}
      },
      "source": [
        "# Display genotype file. Format: https://reich.hms.harvard.edu/software/InputFileFormats\n",
        "genotypes = pd.read_fwf('1000G_archaic.geno', widths=np.ones(2506, dtype=int).tolist(), header=None)\n",
        "print(genotypes.shape)\n",
        "genotypes.head()"
      ],
      "execution_count": 0,
      "outputs": []
    },
    {
      "cell_type": "markdown",
      "metadata": {
        "id": "uCzNkBdw20-Y",
        "colab_type": "text"
      },
      "source": [
        "# Principal Component Analysis (PCA)\n",
        "\n",
        "Patterson, Nick, Alkes L. Price, and David Reich. \"Population structure and eigenanalysis.\" PLoS genetics 2.12 (2006): e190.\n",
        "\n",
        "https://journals.plos.org/plosgenetics/article?id=10.1371/journal.pgen.0020190\n",
        "\n",
        "Software documentation: https://github.com/DReichLab/EIG/tree/master/POPGEN\n",
        "\n",
        "Usage: `!../../bin/smartpca -p 1000G_archaic.smartpca.par`"
      ]
    },
    {
      "cell_type": "code",
      "metadata": {
        "id": "Hvk0eGDpjIFu",
        "colab_type": "code",
        "colab": {}
      },
      "source": [
        "# Parameter file (1000G_archaic.smartpca.par)\n",
        "%%writefile 1000G_archaic.smartpca.par\n",
        "genotypename: 1000G_archaic.geno     # file with genotype information\n",
        "snpname:      1000G_archaic.snp      # file with snp information\n",
        "indivname:    1000G_archaic.ind      # file with individual information   \n",
        "#poplistname:  1000G_archaic.pop.list # list of pops to include in the run.\n",
        "outliermode: 2\n",
        "evecoutname:  1000G_archaic.evec     # output file of eigenvectors.\n",
        "evaloutname:  1000G_archaic.eval     # output file of all eigenvalues\n",
        "snpweightoutname: 1000G_archaic.Weightout.txt\n",
        "phylipname:   1000G_archaic.phyl     # file with Fst values across populations \n",
        "numoutevec:   20               # number of PCs to output \n",
        "numthreads:   1                # if running interactively, use 1 only"
      ],
      "execution_count": 0,
      "outputs": []
    },
    {
      "cell_type": "code",
      "metadata": {
        "id": "hGLPZ1x4B4QM",
        "colab_type": "code",
        "colab": {}
      },
      "source": [
        "# Run smartpca \n",
        "%%capture\n",
        "!../../bin/smartpca -p 1000G_archaic.smartpca.par"
      ],
      "execution_count": 0,
      "outputs": []
    },
    {
      "cell_type": "code",
      "metadata": {
        "id": "LZKn94v_HcWd",
        "colab_type": "code",
        "colab": {}
      },
      "source": [
        "# Display results - evec file. File contains loadings for each individual on the 20 PCs. https://github.com/DReichLab/EIG/tree/master/POPGEN\n",
        "n_pcs = 20\n",
        "pcs = pd.read_csv('1000G_archaic.evec', skiprows=1, header=None, delim_whitespace=True,\n",
        "                       names=['Sample']+['PC'+str(i+1) for i in range(n_pcs)]+['population'])\n",
        "pcs = pcs.merge(population_info, on='population', how='left').fillna('Archaic')\n",
        "pcs.head()"
      ],
      "execution_count": 0,
      "outputs": []
    },
    {
      "cell_type": "code",
      "metadata": {
        "id": "HRIkaSppamOS",
        "colab_type": "code",
        "colab": {}
      },
      "source": [
        "# Plot the top two PCs. Population labels = super_population\n",
        "plot_pcs(pcs, 1, 2, pcs.super_population, [my_individual])"
      ],
      "execution_count": 0,
      "outputs": []
    },
    {
      "cell_type": "code",
      "metadata": {
        "id": "-tsPvRFRcE3K",
        "colab_type": "code",
        "colab": {}
      },
      "source": [
        "# Plot the top two PCs. Population labels = population\n",
        "plot_pcs(pcs, 1, 2, pcs.population, [my_individual])"
      ],
      "execution_count": 0,
      "outputs": []
    },
    {
      "cell_type": "code",
      "metadata": {
        "id": "Yw5_lR12Xioa",
        "colab_type": "code",
        "colab": {}
      },
      "source": [
        "# Display eigenvalues. https://github.com/DReichLab/EIG/tree/master/POPGEN\n",
        "eigenvalues = np.loadtxt('1000G_archaic.eval')\n",
        "plt.plot(np.arange(1, 21), eigenvalues[:20])\n",
        "plt.xticks(np.arange(1, 21));\n",
        "plt.xlabel('eigenvalue rank')\n",
        "plt.ylabel('eigenvalue');"
      ],
      "execution_count": 0,
      "outputs": []
    },
    {
      "cell_type": "code",
      "metadata": {
        "id": "txrbQ-b_ZMsQ",
        "colab_type": "code",
        "colab": {}
      },
      "source": [
        "# Display %variance explained\n",
        "eigenvalues = np.loadtxt('1000G_archaic.eval')\n",
        "plt.plot(np.arange(1, 21), 100 * eigenvalues[:20] / eigenvalues.sum())\n",
        "plt.xticks(np.arange(1, 21));\n",
        "plt.xlabel('eigenvalue rank')\n",
        "plt.ylabel('percent variance explained');"
      ],
      "execution_count": 0,
      "outputs": []
    },
    {
      "cell_type": "code",
      "metadata": {
        "id": "we6jAuBSoqIt",
        "colab_type": "code",
        "colab": {}
      },
      "source": [
        "# FST between populations\n",
        "!cat 1000G_archaic.phyl"
      ],
      "execution_count": 0,
      "outputs": []
    },
    {
      "cell_type": "markdown",
      "metadata": {
        "id": "PfWwwxuwG8tc",
        "colab_type": "text"
      },
      "source": [
        "## Exercise: explore your continental group"
      ]
    },
    {
      "cell_type": "code",
      "metadata": {
        "id": "gaELNJT_02Yj",
        "colab_type": "code",
        "colab": {}
      },
      "source": [
        "# Write population list. \n",
        "np.savetxt('pop.list', individuals[individuals.super_population==my_continental_group].population.unique().astype(str), fmt='%s')"
      ],
      "execution_count": 0,
      "outputs": []
    },
    {
      "cell_type": "code",
      "metadata": {
        "id": "aPk-cRrP0LJ9",
        "colab_type": "code",
        "colab": {}
      },
      "source": [
        "%%writefile 1000G_archaic.continent.smartpca.par\n",
        "genotypename: 1000G_archaic.geno     # file with genotype information\n",
        "snpname:      1000G_archaic.snp      # file with snp information\n",
        "indivname:    1000G_archaic.ind      # file with individual information   \n",
        "poplistname:  pop.list # list of pops to include in the run.\n",
        "evecoutname:  1000G_archaic.continent.evec     # output file of eigenvectors.\n",
        "evaloutname:  1000G_archaic.continent.eval     # output file of all eigenvalues\n",
        "snpweightoutname: 1000G_archaic.continent.Weightout.txt\n",
        "phylipname:   1000G_archaic.continent.phyl     # file with Fst values across populations \n",
        "numoutevec:   10               # number of PCs to output \n",
        "numthreads:   1                # if running interactively, use 1 only\n",
        "outliermode: 2\n",
        "#outliermode should be 0, 1 or 2 \n",
        "#mode = 2  NO outlier removal \n",
        "#mode = 1  when calculating mean and standard deviation of a PC to decide whether to remove a sample the \n",
        "# sample itself is not used.   This may be important for datasets with very small sample sizes (say less than 30).  \n",
        "#mode = 0  (default) use all samples to compute PC mean and variance. "
      ],
      "execution_count": 0,
      "outputs": []
    },
    {
      "cell_type": "code",
      "metadata": {
        "id": "zEbco6HJ2kfE",
        "colab_type": "code",
        "colab": {}
      },
      "source": [
        "# Run smartpca\n",
        "%%capture\n",
        "!../../bin/smartpca -p 1000G_archaic.continent.smartpca.par"
      ],
      "execution_count": 0,
      "outputs": []
    },
    {
      "cell_type": "code",
      "metadata": {
        "id": "UainYiYvcdop",
        "colab_type": "code",
        "colab": {}
      },
      "source": [
        "# Display output\n",
        "n_pcs = 10\n",
        "pcs = pd.read_csv('1000G_archaic.continent.evec', skiprows=1, header=None, delim_whitespace=True,\n",
        "                       names=['Sample']+['PC'+str(i+1) for i in range(n_pcs)]+['population'])\n",
        "pcs = pcs.merge(population_info, on='population', how='left').fillna('Archaic')\n",
        "pcs = pcs[pcs.super_population==my_continental_group]\n",
        "pcs.head()"
      ],
      "execution_count": 0,
      "outputs": []
    },
    {
      "cell_type": "code",
      "metadata": {
        "id": "sqmYvuI8cwNU",
        "colab_type": "code",
        "colab": {}
      },
      "source": [
        "# plot PCA output\n",
        "plot_pcs(pcs, 1, 2, pcs.population, [my_individual])"
      ],
      "execution_count": 0,
      "outputs": []
    },
    {
      "cell_type": "code",
      "metadata": {
        "id": "0SHMzJfDuowJ",
        "colab_type": "code",
        "colab": {}
      },
      "source": [
        "# Display information about current individual from 1000G\n",
        "individuals.iloc[my_individual_index]"
      ],
      "execution_count": 0,
      "outputs": []
    },
    {
      "cell_type": "code",
      "metadata": {
        "id": "yH-BDQpCoZqm",
        "colab_type": "code",
        "colab": {}
      },
      "source": [
        "# FST between populations\n",
        "!cat 1000G_archaic.continent.phyl"
      ],
      "execution_count": 0,
      "outputs": []
    },
    {
      "cell_type": "markdown",
      "metadata": {
        "id": "fgxIdayESsTF",
        "colab_type": "text"
      },
      "source": [
        "# Admixture analysis\n",
        "\n",
        "Alexander, David H., John Novembre, and Kenneth Lange. \"Fast model-based estimation of ancestry in unrelated individuals.\" Genome research 19.9 (2009): 1655-1664.\n",
        "\n",
        "https://genome.cshlp.org/content/19/9/1655.full\n",
        "\n",
        "Software documentation: http://www.genetics.ucla.edu/software/admixture/admixture-manual.pdf\n",
        "\n",
        "Usage: \n",
        "\n",
        "```!../../bin/admixture --cv 1000G_archaic.bed K```\n",
        "\n",
        "where K = number of clusters"
      ]
    },
    {
      "cell_type": "code",
      "metadata": {
        "id": "2kdHsi22hE_J",
        "colab_type": "code",
        "colab": {}
      },
      "source": [
        "# Run ADMIXTURE with K=2 clusters\n",
        "!../../bin/admixture --cv 1000G_archaic.bed 2"
      ],
      "execution_count": 0,
      "outputs": []
    },
    {
      "cell_type": "code",
      "metadata": {
        "id": "Wz9icLAkMML5",
        "colab_type": "code",
        "colab": {}
      },
      "source": [
        "# Display output of ADMIXTURE. Each line contains the probability of an individual belonging to each cluster - not be to confused with ancestry proportion.\n",
        "admix = pd.read_csv('1000G_archaic.2.Q', ' ', header=None).values[order]\n",
        "admix"
      ],
      "execution_count": 0,
      "outputs": []
    },
    {
      "cell_type": "code",
      "metadata": {
        "id": "xRm6ymQin2c3",
        "colab_type": "code",
        "colab": {}
      },
      "source": [
        "# Admixture plot where each color represents one cluster\n",
        "plot_admixture(admix, individuals.super_population.cat.codes, individuals.super_population.cat.categories);"
      ],
      "execution_count": 0,
      "outputs": []
    },
    {
      "cell_type": "code",
      "metadata": {
        "id": "uxWC8jKdd_7a",
        "colab_type": "code",
        "colab": {}
      },
      "source": [
        "# Admixture plot with subcontinental ancestry where each color represents one cluster\n",
        "plot_admixture(admix, individuals.population.cat.codes, individuals.population.cat.categories);"
      ],
      "execution_count": 0,
      "outputs": []
    },
    {
      "cell_type": "code",
      "metadata": {
        "id": "v7hp1zmImoa2",
        "colab_type": "code",
        "colab": {}
      },
      "source": [
        "# Admixture output for the current individual\n",
        "plot_admix_individual(admix, my_individual)"
      ],
      "execution_count": 0,
      "outputs": []
    },
    {
      "cell_type": "code",
      "metadata": {
        "id": "8fIo4Cm0m7lG",
        "colab_type": "code",
        "colab": {}
      },
      "source": [
        "# Admixture output for Altai Neanderthal. \n",
        "plot_admix_individual(admix, 'Altai')"
      ],
      "execution_count": 0,
      "outputs": []
    },
    {
      "cell_type": "code",
      "metadata": {
        "id": "TUqSnQXTm915",
        "colab_type": "code",
        "colab": {}
      },
      "source": [
        "# Admixture output for Denisova. \n",
        "plot_admix_individual(admix, 'Denisova')"
      ],
      "execution_count": 0,
      "outputs": []
    },
    {
      "cell_type": "code",
      "metadata": {
        "id": "z_EYVsop9ylN",
        "colab_type": "code",
        "colab": {}
      },
      "source": [
        "# Now let's run admixture with K=3 clusters\n",
        "!../../bin/admixture --cv 1000G_archaic.bed 3"
      ],
      "execution_count": 0,
      "outputs": []
    },
    {
      "cell_type": "code",
      "metadata": {
        "id": "X8DenkTBlopX",
        "colab_type": "code",
        "colab": {}
      },
      "source": [
        "# Display output of ADMIXTURE (K=3)\n",
        "admix = pd.read_csv('1000G_archaic.3.Q', ' ', header=None).values[order]\n",
        "plot_admixture(admix, individuals.population.cat.codes, individuals.population.cat.categories);"
      ],
      "execution_count": 0,
      "outputs": []
    },
    {
      "cell_type": "code",
      "metadata": {
        "id": "PLDyReANnRm7",
        "colab_type": "code",
        "colab": {}
      },
      "source": [
        "# Admixture output for the current individual (K=3)\n",
        "plot_admix_individual(admix, my_individual)"
      ],
      "execution_count": 0,
      "outputs": []
    },
    {
      "cell_type": "code",
      "metadata": {
        "id": "_Zq_LMk-rve7",
        "colab_type": "code",
        "colab": {}
      },
      "source": [
        "# For K=4,5,6 results have been precomputed, we can just load them. Display output of ADMIXTURE (K=4)\n",
        "admix = pd.read_csv('1000G_archaic.4.Q', ' ', header=None).values[order]\n",
        "plot_admixture(admix, individuals.population.cat.codes, individuals.population.cat.categories);"
      ],
      "execution_count": 0,
      "outputs": []
    },
    {
      "cell_type": "code",
      "metadata": {
        "id": "VpqgQLKQncZw",
        "colab_type": "code",
        "colab": {}
      },
      "source": [
        "# Admixture output for the current individual (K=4)\n",
        "plot_admix_individual(admix, my_individual)"
      ],
      "execution_count": 0,
      "outputs": []
    },
    {
      "cell_type": "code",
      "metadata": {
        "colab_type": "code",
        "id": "0K5XM7EY-fQg",
        "colab": {}
      },
      "source": [
        "# Display output of ADMIXTURE (K=5)\n",
        "admix = pd.read_csv('1000G_archaic.5.Q', ' ', header=None).values[order]\n",
        "plot_admixture(admix, individuals.population.cat.codes, individuals.population.cat.categories);"
      ],
      "execution_count": 0,
      "outputs": []
    },
    {
      "cell_type": "code",
      "metadata": {
        "id": "HUsAWxb5ne7x",
        "colab_type": "code",
        "colab": {}
      },
      "source": [
        "# Admixture output for the current individual (K=5)\n",
        "plot_admix_individual(admix, my_individual)"
      ],
      "execution_count": 0,
      "outputs": []
    },
    {
      "cell_type": "code",
      "metadata": {
        "colab_type": "code",
        "id": "HrzfuyEW-443",
        "colab": {}
      },
      "source": [
        "# Display output of ADMIXTURE (K=6)\n",
        "admix = pd.read_csv('1000G_archaic.6.Q', ' ', header=None).values[order]\n",
        "plot_admixture(admix, individuals.population.cat.codes, individuals.population.cat.categories);"
      ],
      "execution_count": 0,
      "outputs": []
    },
    {
      "cell_type": "code",
      "metadata": {
        "id": "xh-KnvVDnhTa",
        "colab_type": "code",
        "colab": {}
      },
      "source": [
        "# Admixture output for the current individual (K=6)\n",
        "plot_admix_individual(admix, my_individual)"
      ],
      "execution_count": 0,
      "outputs": []
    },
    {
      "cell_type": "code",
      "metadata": {
        "id": "fNpBW20G_DUv",
        "colab_type": "code",
        "colab": {}
      },
      "source": [
        "# Likelihood of data as a function of K, the number of clusters\n",
        "K = np.arange(2, 9)\n",
        "log_likelihood = [-40488756, -39516004, -39261878, -39067307, -39034320, -38999856, -38959044]\n",
        "plt.plot(K, log_likelihood)\n",
        "plt.xticks(K)\n",
        "plt.xlabel('K')\n",
        "plt.ylabel('log likelihood');"
      ],
      "execution_count": 0,
      "outputs": []
    },
    {
      "cell_type": "markdown",
      "metadata": {
        "id": "ULFBCDmESw4c",
        "colab_type": "text"
      },
      "source": [
        "# Analysis of archaic introgression\n",
        "\n",
        "Skov, Laurits, et al. \"Detecting archaic introgression using an unadmixed outgroup.\" PLoS genetics 14.9 (2018): e1007641.\n",
        "\n",
        "https://journals.plos.org/plosgenetics/article?id=10.1371/journal.pgen.1007641\n",
        "\n",
        "Software: https://github.com/LauritsSkov/Introgression-detection\n",
        "\n",
        "Usage:\n",
        "\n",
        "`!python2 Introgression-detection/Train.py infile outprefix model weights_file mutfile`\n",
        "\n",
        "`!python2 Introgression-detection/Decode.py infile outprefix model weights_file mutfile window_size`"
      ]
    },
    {
      "cell_type": "code",
      "metadata": {
        "id": "wnyNBSqGunEl",
        "colab_type": "code",
        "colab": {}
      },
      "source": [
        "# Signal of archaic admixture\n",
        "Image(filename='hmm-skov-3.png', height=500)"
      ],
      "execution_count": 0,
      "outputs": []
    },
    {
      "cell_type": "code",
      "metadata": {
        "id": "YdUejeXB_DJG",
        "colab_type": "code",
        "colab": {}
      },
      "source": [
        "# What is an HMM\n",
        "Image(filename='hmm.png', height=200) "
      ],
      "execution_count": 0,
      "outputs": []
    },
    {
      "cell_type": "code",
      "metadata": {
        "id": "qHmmEIk6a2xP",
        "colab_type": "code",
        "colab": {}
      },
      "source": [
        "# Main idea for identifying segments of archaic ancestry\n",
        "Image(filename='hmm-skov-2.png', height=500)"
      ],
      "execution_count": 0,
      "outputs": []
    },
    {
      "cell_type": "code",
      "metadata": {
        "id": "Oe2AlzIoO1nM",
        "colab_type": "code",
        "colab": {}
      },
      "source": [
        "# SKIP\n",
        "#!python2 Introgression-detection/MakeMaskfiles.py chr17.fa.masked 20140520.chr17.strict_mask.fasta.gz 1000 17 chr17\n",
        "#!cp chr17.txt weights.txt\n",
        "#!cp chr17.bed weights.bed\n",
        "#!cat integrated_call_samples_v3.20130502.ALL.panel | grep -E \"YRI|ESN|MSL\" | cut -f 1 > outgroups.txt\n",
        "#!tabix -h ALL.chr17.phase3_shapeit2_mvncall_integrated_v5a.20130502.genotypes.vcf.gz -R chr17.bed | vcftools --vcf - --counts --stdout --keep outgroups.txt --remove-indels --min-alleles 2 --max-alleles 2 > chr17.freq\n",
        "#!python2 Introgression-detection/Estimate_mutationrate.py chr17.freq 1000000 1000 chr17.txt chr17.mut\n",
        "#!cp chr17.mut mutationrates.txt\n",
        "#!tabix -fh ALL.chr17.phase3_shapeit2_mvncall_integrated_v5a.20130502.genotypes.vcf.gz -R chr17.bed | vcftools --vcf - --indv HG00096 --remove-indels --min-alleles 2 --max-alleles 2 --stdout --counts | python2 Introgression-detection/Filtervariants.py homo_sapiens_ancestor_17.fa chr17.freq 1000 chr17.txt HG00096.chr17.observations.txt"
      ],
      "execution_count": 0,
      "outputs": []
    },
    {
      "cell_type": "code",
      "metadata": {
        "id": "_ddSgcM5Z9WU",
        "colab_type": "code",
        "colab": {}
      },
      "source": [
        "# Configure files for the current individual\n",
        "os.system('cp {}.chr17.observations.txt observations.txt'.format(my_individual));"
      ],
      "execution_count": 0,
      "outputs": []
    },
    {
      "cell_type": "code",
      "metadata": {
        "id": "mzLDxfxed6J2",
        "colab_type": "code",
        "colab": {}
      },
      "source": [
        "# Define initial parameters for the HMM\n",
        "%%writefile StartingParameters.hmm\n",
        "# State names (only used for decoding)\n",
        "states = ['Human','Archaic']\n",
        "\n",
        "# Initialization parameters (prob of staring in states)\n",
        "starting_probabilities = [0.98, 0.02]\n",
        "\n",
        "# transition matrix\n",
        "transitions = [[0.9995,0.0005],[0.012,0.98]]\n",
        "\n",
        "# emission matrix (poisson parameter)\n",
        "emissions = [0.04, 0.1]"
      ],
      "execution_count": 0,
      "outputs": []
    },
    {
      "cell_type": "code",
      "metadata": {
        "id": "bPBmBIDNe1OH",
        "colab_type": "code",
        "colab": {}
      },
      "source": [
        "# Train the HMM model\n",
        "!python2 Introgression-detection/Train.py observations.txt trained StartingParameters.hmm weights.txt mutationrates.txt"
      ],
      "execution_count": 0,
      "outputs": []
    },
    {
      "cell_type": "code",
      "metadata": {
        "id": "-V2gFhqXe8Rq",
        "colab_type": "code",
        "colab": {}
      },
      "source": [
        "# Display trained parameters\n",
        "!cat trained.hmm"
      ],
      "execution_count": 0,
      "outputs": []
    },
    {
      "cell_type": "code",
      "metadata": {
        "id": "VPXOdt_HfCva",
        "colab_type": "code",
        "colab": {}
      },
      "source": [
        "# Decode the most likely assignment of ancestry to windows\n",
        "!python2 Introgression-detection/Decode.py observations.txt decoded trained.hmm weights.txt mutationrates.txt 1000"
      ],
      "execution_count": 0,
      "outputs": []
    },
    {
      "cell_type": "code",
      "metadata": {
        "id": "TRUBtW06SJIE",
        "colab_type": "code",
        "colab": {}
      },
      "source": [
        "# Inference for every 1000Kb window\n",
        "posterior_probs = pd.read_csv('decoded.All_posterior_probs.txt', '\\t')\n",
        "posterior_probs.head()"
      ],
      "execution_count": 0,
      "outputs": []
    },
    {
      "cell_type": "code",
      "metadata": {
        "id": "-jF0BTvnr6MD",
        "colab_type": "code",
        "colab": {}
      },
      "source": [
        "posterior_probs[posterior_probs.observations>0].head()"
      ],
      "execution_count": 0,
      "outputs": []
    },
    {
      "cell_type": "code",
      "metadata": {
        "id": "qX6xeGKvH3Zq",
        "colab_type": "code",
        "colab": {}
      },
      "source": [
        "# The most likeliy assignment of ancestry to the whole chromosome, split into contiguous segments of same ancestry\n",
        "decoded_summary = pd.read_csv('decoded.Summary.txt', '\\t')\n",
        "decoded_summary.head()"
      ],
      "execution_count": 0,
      "outputs": []
    },
    {
      "cell_type": "code",
      "metadata": {
        "id": "2-qULIPHqU10",
        "colab_type": "code",
        "colab": {}
      },
      "source": [
        "# Obtain the windows ancestry assignment\n",
        "window_assignment = (posterior_probs.Mostlikely=='Archaic')"
      ],
      "execution_count": 0,
      "outputs": []
    },
    {
      "cell_type": "code",
      "metadata": {
        "id": "FnderQdDsjvR",
        "colab_type": "code",
        "colab": {}
      },
      "source": [
        "# Plot the assignment of the whole chromosome\n",
        "plot_window_assignment(window_assignment)"
      ],
      "execution_count": 0,
      "outputs": []
    },
    {
      "cell_type": "code",
      "metadata": {
        "id": "Rt3HvxobtI48",
        "colab_type": "code",
        "colab": {}
      },
      "source": [
        "# Plot assignment of the first 5000 windows\n",
        "plot_window_assignment(window_assignment[:5000])"
      ],
      "execution_count": 0,
      "outputs": []
    },
    {
      "cell_type": "code",
      "metadata": {
        "id": "DOri8-tPjPYd",
        "colab_type": "code",
        "colab": {}
      },
      "source": [
        "# Obtain number of observations per window of Human or Archaic ancestry\n",
        "obs_human = posterior_probs.observations[posterior_probs.Mostlikely=='Human']\n",
        "obs_archaic = posterior_probs.observations[posterior_probs.Mostlikely=='Archaic']\n",
        "max_human = obs_human.max()\n",
        "max_archaic = obs_archaic.max()"
      ],
      "execution_count": 0,
      "outputs": []
    },
    {
      "cell_type": "code",
      "metadata": {
        "id": "0TA1U3OqjKTY",
        "colab_type": "code",
        "colab": {}
      },
      "source": [
        "# Plot the number of variants per window of human ancestry\n",
        "plt.bar(np.arange(max_human+1), [(obs_human==i).mean() for i in range(max_human+1)]);\n",
        "plt.xticks(np.arange(max_human+1));\n",
        "plt.xlabel('Number of variants')\n",
        "plt.ylabel('Proportion')\n",
        "plt.title('Histogram of number of variants per window of Human ancestry');"
      ],
      "execution_count": 0,
      "outputs": []
    },
    {
      "cell_type": "code",
      "metadata": {
        "id": "ylt38w6bkAyx",
        "colab_type": "code",
        "colab": {}
      },
      "source": [
        "# Plot the number of variants per window of archaic ancestry\n",
        "plt.bar(np.arange(max_archaic+1), [(obs_archaic==i).mean() for i in range(max_archaic+1)]);\n",
        "plt.xticks(np.arange(max_archaic+1));\n",
        "plt.xlabel('Number of variants')\n",
        "plt.ylabel('Proportion')\n",
        "plt.title('Histogram of number of variants per window of Archaic ancestry');"
      ],
      "execution_count": 0,
      "outputs": []
    }
  ]
}
